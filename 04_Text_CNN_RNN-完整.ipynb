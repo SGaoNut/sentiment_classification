{
 "cells": [
  {
   "cell_type": "markdown",
   "metadata": {},
   "source": [
    "## 深度学习解决NLP监督任务\n",
    "\n",
    "![jupyter](./imgs/dl_for_nlp.png)"
   ]
  },
  {
   "cell_type": "code",
   "execution_count": 1,
   "metadata": {},
   "outputs": [],
   "source": [
    "import re\n",
    "\n",
    "import joblib\n",
    "import numpy as np\n",
    "import pandas as pd\n",
    "import tensorflow as tf\n",
    "from sklearn.model_selection import train_test_split\n",
    "from tensorflow.keras.preprocessing.sequence import pad_sequences\n",
    "\n",
    "random_seed = 100\n",
    "\n",
    "import warnings\n",
    "\n",
    "warnings.filterwarnings('ignore')"
   ]
  },
  {
   "cell_type": "markdown",
   "metadata": {},
   "source": [
    "## 1. 数据预处理与数据集划分"
   ]
  },
  {
   "cell_type": "code",
   "execution_count": 2,
   "metadata": {},
   "outputs": [],
   "source": [
    "def preprocess_text(words):\n",
    "    # 转为小写\n",
    "    words = words.lower()\n",
    "    # 去除标点，保留中英文字符\n",
    "    words = re.sub('[^a-z^0-9^\\u4e00-\\u9fa5]', '', words)\n",
    "    # 将所有数字都转为0\n",
    "    words = re.sub('[0-9]', '0', words)\n",
    "    words = ' '.join(words)\n",
    "    # 合并连续的空格\n",
    "    words = re.sub('\\s{2,}', ' ', words)\n",
    "    return words.strip()"
   ]
  },
  {
   "cell_type": "code",
   "execution_count": 3,
   "metadata": {},
   "outputs": [
    {
     "data": {
      "text/html": [
       "<div>\n",
       "<style scoped>\n",
       "    .dataframe tbody tr th:only-of-type {\n",
       "        vertical-align: middle;\n",
       "    }\n",
       "\n",
       "    .dataframe tbody tr th {\n",
       "        vertical-align: top;\n",
       "    }\n",
       "\n",
       "    .dataframe thead th {\n",
       "        text-align: right;\n",
       "    }\n",
       "</style>\n",
       "<table border=\"1\" class=\"dataframe\">\n",
       "  <thead>\n",
       "    <tr style=\"text-align: right;\">\n",
       "      <th></th>\n",
       "      <th>text</th>\n",
       "      <th>label</th>\n",
       "    </tr>\n",
       "  </thead>\n",
       "  <tbody>\n",
       "    <tr>\n",
       "      <th>0</th>\n",
       "      <td>肺 炎 疫 情</td>\n",
       "      <td>1</td>\n",
       "    </tr>\n",
       "    <tr>\n",
       "      <th>1</th>\n",
       "      <td>西 方 记 者 挑 事 提 问 w h o 总 干 事 用 事 实 力 挺 中 国 0 0 ...</td>\n",
       "      <td>1</td>\n",
       "    </tr>\n",
       "    <tr>\n",
       "      <th>2</th>\n",
       "      <td>人 数 终 于 始 呈 下 降 趋 势 这 个 春 节 有 喜 有 忧 但 事 情 终 有 ...</td>\n",
       "      <td>1</td>\n",
       "    </tr>\n",
       "    <tr>\n",
       "      <th>3</th>\n",
       "      <td>抗 病 毒 小 刘 上 线 今 天 有 好 几 个 朋 友 来 问 我 戴 没 戴 口 罩 ...</td>\n",
       "      <td>1</td>\n",
       "    </tr>\n",
       "    <tr>\n",
       "      <th>4</th>\n",
       "      <td>潜 伏 期 传 染 后 期 会 不 会 更 惊 讶 o 最 新 疫 情 地 图 出 炉 这 ...</td>\n",
       "      <td>1</td>\n",
       "    </tr>\n",
       "  </tbody>\n",
       "</table>\n",
       "</div>"
      ],
      "text/plain": [
       "                                                text  label\n",
       "0                                            肺 炎 疫 情      1\n",
       "1  西 方 记 者 挑 事 提 问 w h o 总 干 事 用 事 实 力 挺 中 国 0 0 ...      1\n",
       "2  人 数 终 于 始 呈 下 降 趋 势 这 个 春 节 有 喜 有 忧 但 事 情 终 有 ...      1\n",
       "3  抗 病 毒 小 刘 上 线 今 天 有 好 几 个 朋 友 来 问 我 戴 没 戴 口 罩 ...      1\n",
       "4  潜 伏 期 传 染 后 期 会 不 会 更 惊 讶 o 最 新 疫 情 地 图 出 炉 这 ...      1"
      ]
     },
     "execution_count": 3,
     "metadata": {},
     "output_type": "execute_result"
    }
   ],
   "source": [
    "raw_train_df = pd.read_csv('./processed_data/train.csv')\n",
    "raw_train_df['text'] = raw_train_df['text'].apply(preprocess_text)\n",
    "raw_train_df = raw_train_df[raw_train_df['text'] != '']\n",
    "# 过滤掉处理后文本为空的数据\n",
    "raw_train_df[['text', 'label']].head()"
   ]
  },
  {
   "cell_type": "code",
   "execution_count": 4,
   "metadata": {},
   "outputs": [
    {
     "data": {
      "text/html": [
       "<div>\n",
       "<style scoped>\n",
       "    .dataframe tbody tr th:only-of-type {\n",
       "        vertical-align: middle;\n",
       "    }\n",
       "\n",
       "    .dataframe tbody tr th {\n",
       "        vertical-align: top;\n",
       "    }\n",
       "\n",
       "    .dataframe thead th {\n",
       "        text-align: right;\n",
       "    }\n",
       "</style>\n",
       "<table border=\"1\" class=\"dataframe\">\n",
       "  <thead>\n",
       "    <tr style=\"text-align: right;\">\n",
       "      <th></th>\n",
       "      <th>text</th>\n",
       "      <th>label</th>\n",
       "    </tr>\n",
       "  </thead>\n",
       "  <tbody>\n",
       "    <tr>\n",
       "      <th>0</th>\n",
       "      <td>星 火 线 上 课 足 不 出 户 同 样 进 步 l 星 火 教 育 呼 市 的 视 频</td>\n",
       "      <td>2</td>\n",
       "    </tr>\n",
       "    <tr>\n",
       "      <th>1</th>\n",
       "      <td>中 科 院 病 毒 研 究 所 石 正 丽 老 师 演 讲 追 踪 s a r s 的 源 ...</td>\n",
       "      <td>2</td>\n",
       "    </tr>\n",
       "    <tr>\n",
       "      <th>2</th>\n",
       "      <td>嗯 熊 中 默 就 是 那 个 给 那 位 挂 基 层 辅 警 照 片 暴 平 安 天 门 ...</td>\n",
       "      <td>0</td>\n",
       "    </tr>\n",
       "    <tr>\n",
       "      <th>3</th>\n",
       "      <td>今 天 看 到 两 条 让 我 真 的 笑 笑 出 声 的 为 防 病 毒 出 门 抢 购 ...</td>\n",
       "      <td>0</td>\n",
       "    </tr>\n",
       "    <tr>\n",
       "      <th>4</th>\n",
       "      <td>莫 西 干</td>\n",
       "      <td>1</td>\n",
       "    </tr>\n",
       "  </tbody>\n",
       "</table>\n",
       "</div>"
      ],
      "text/plain": [
       "                                                text  label\n",
       "0      星 火 线 上 课 足 不 出 户 同 样 进 步 l 星 火 教 育 呼 市 的 视 频      2\n",
       "1  中 科 院 病 毒 研 究 所 石 正 丽 老 师 演 讲 追 踪 s a r s 的 源 ...      2\n",
       "2  嗯 熊 中 默 就 是 那 个 给 那 位 挂 基 层 辅 警 照 片 暴 平 安 天 门 ...      0\n",
       "3  今 天 看 到 两 条 让 我 真 的 笑 笑 出 声 的 为 防 病 毒 出 门 抢 购 ...      0\n",
       "4                                              莫 西 干      1"
      ]
     },
     "execution_count": 4,
     "metadata": {},
     "output_type": "execute_result"
    }
   ],
   "source": [
    "test_df = pd.read_csv('./processed_data/test.csv')\n",
    "test_df['text'] = test_df['text'].apply(preprocess_text)\n",
    "test_df = test_df[test_df['text'] != '']  # 过滤掉处理后文本为空的数据\n",
    "test_df[['text', 'label']].head()"
   ]
  },
  {
   "cell_type": "code",
   "execution_count": 5,
   "metadata": {},
   "outputs": [
    {
     "data": {
      "text/plain": [
       "(74792, 5000)"
      ]
     },
     "execution_count": 5,
     "metadata": {},
     "output_type": "execute_result"
    }
   ],
   "source": [
    "# 划分训练集与验证集\n",
    "train_df, val_df = train_test_split(\n",
    "    raw_train_df,\n",
    "    test_size=5000,\n",
    "    random_state=1234\n",
    ")\n",
    "len(train_df), len(val_df)"
   ]
  },
  {
   "cell_type": "code",
   "execution_count": 6,
   "metadata": {},
   "outputs": [],
   "source": [
    "# 保存划分好的数据集\n",
    "\n",
    "train_df.to_csv('./dataset/train.csv', index=False)\n",
    "val_df.to_csv('./dataset/val.csv', index=False)\n",
    "test_df.to_csv('./dataset/test.csv', index=False)"
   ]
  },
  {
   "cell_type": "markdown",
   "metadata": {},
   "source": [
    "## 2. 构建TF数据集   \n",
    "\n",
    "TensorFlow全新的数据读取方式：Dataset API入门教程：https://zhuanlan.zhihu.com/p/30751039"
   ]
  },
  {
   "cell_type": "code",
   "execution_count": 7,
   "metadata": {},
   "outputs": [
    {
     "data": {
      "text/plain": [
       "(74792, 5000, 9998)"
      ]
     },
     "execution_count": 7,
     "metadata": {},
     "output_type": "execute_result"
    }
   ],
   "source": [
    "# 读取原始数据集\n",
    "train_text, train_label = train_df['text'], train_df['label']\n",
    "val_text, val_label = val_df['text'], val_df['label']\n",
    "test_text, test_label = test_df['text'], test_df['label']\n",
    "len(train_label), len(val_label), len(test_label)"
   ]
  },
  {
   "cell_type": "markdown",
   "metadata": {},
   "source": [
    "### Tokenizer\n",
    "Tokenizer是一个分词器，用于文本预处理，序列化，向量化等。  \n",
    "https://www.tensorflow.org/api_docs/python/tf/keras/preprocessing/text/Tokenizer  ｜  \n",
    "默认情况下，将删除所有标点符号，从而将文本转换为以空格分隔的单词序列（单词可能包含’字符，如I’am）,然后将这些序列分为标记列表，并将它们编入索引或向量化。注意0是保留索引，不会分配给任何单词。"
   ]
  },
  {
   "cell_type": "code",
   "execution_count": 1,
   "metadata": {},
   "outputs": [
    {
     "ename": "SyntaxError",
     "evalue": "invalid syntax (482620102.py, line 16)",
     "output_type": "error",
     "traceback": [
      "\u001B[0;36m  File \u001B[0;32m\"/var/folders/96/0jnny1gj02j8pgfvb9by368m0000gn/T/ipykernel_78698/482620102.py\"\u001B[0;36m, line \u001B[0;32m16\u001B[0m\n\u001B[0;31m    oov_token=None\u001B[0m\n\u001B[0m    ^\u001B[0m\n\u001B[0;31mSyntaxError\u001B[0m\u001B[0;31m:\u001B[0m invalid syntax\n"
     ]
    }
   ],
   "source": [
    "tokenizer = tf.keras.preprocessing.text.Tokenizer(\n",
    "    # 根据单词频率排序，保留前num_words个单词，即仅保留最常见的num_words-1个单词\n",
    "    num_words=None,\n",
    "    # 一个用于过滤的正则表达式的字符串，这个过滤器作用在每个元素上，默认过滤除‘`’字符外的所有标点符号，制表符和换行符\n",
    "    filters='!\"#$%&()*+,-./:;<=>?@[\\\\]^_`{|}~\\t\\n',\n",
    "    # 标记是否将文本转换为小写\n",
    "    lower=True,\n",
    "    # 分词分隔符，前面已经处理成用空格分割了\n",
    "    split=' ',\n",
    "    # 是否进行字符级别的分词, 前面已经分好了\n",
    "    char_level=False,\n",
    "    # 指定out of vocabulary词, 将被添加到word_index中，\n",
    "    # 并用于在text_to_sequence调用期间替换词汇外的单词，即用来补充原文本中没有的词。\n",
    "    oov_token=None\n",
    ")\n",
    "\n",
    "# 用训练数据的文本训练tokenizer\n",
    "tokenizer.fit_on_texts(train_text)"
   ]
  },
  {
   "cell_type": "code",
   "execution_count": 9,
   "metadata": {
    "scrolled": true
   },
   "outputs": [
    {
     "name": "stdout",
     "output_type": "stream",
     "text": [
      "[[715], [11], [51], [1300], [878], [600], [512], [102], [266], [30], [2], [120], [584], [20], [], [8], [35], [995], [171], [62], [9], [1102], [216], [221], [16], [1213], [1077], [18], [], [1], [], [1], [51], [2], [120], [3], [20], []]\n"
     ]
    }
   ],
   "source": [
    "text = '写在年末冬初孩子流感的第五天，我们仍然没有忘记热情拥抱这2020年的第一天。'\n",
    "# 将文本数据转化为对应的id序列\n",
    "tokens = tokenizer.texts_to_sequences(text)\n",
    "print(tokens)"
   ]
  },
  {
   "cell_type": "code",
   "execution_count": 10,
   "metadata": {},
   "outputs": [
    {
     "data": {
      "text/plain": [
       "['./model/tokenizer.pkl']"
      ]
     },
     "execution_count": 10,
     "metadata": {},
     "output_type": "execute_result"
    }
   ],
   "source": [
    "# 保存tokenzier用于预测\n",
    "tokenizer_save_path = './model/tokenizer.pkl'\n",
    "joblib.dump(tokenizer, tokenizer_save_path)"
   ]
  },
  {
   "cell_type": "markdown",
   "metadata": {},
   "source": [
    "### tf dataset\n",
    "官方API： https://www.tensorflow.org/api_docs/python/tf/data/Dataset\n",
    "其他：https://www.huaweicloud.com/articles/5fcbf05e61828f8e6eeced07ccedc3c6.html\n",
    "\n",
    "- from_tensor_slices: 用于创建dataset,其元素是给定张量的切片的元素。\n",
    "- shuffle: 随机打乱此数据集的样本。从data数据集中按顺序抽取buffer_size个样本放在buffer中，然后打乱buffer中的样本。\n",
    "buffer中样本个数不足buffer_size，继续从data数据集中安顺序填充至buffer_size，此时会再次打乱。\n",
    "对于完美的打乱，缓冲区大小需要大于或等于数据集的大小。\n",
    "- batch: 将数据集的样本构造成批数据。\n",
    "- prefetch: 创建一个从该数据集中预先读取元素的数据集。大多数数据集输入管道应该以调用预取结束。这允许在处理当前元素时准备后面的元素。这通常会提高延迟和吞吐量，但代价是使用额外的内存来存储预取元素。\n",
    "\n",
    "pad_sequences是做补齐序列作用的"
   ]
  },
  {
   "cell_type": "code",
   "execution_count": 11,
   "metadata": {},
   "outputs": [],
   "source": [
    "# 类别数量\n",
    "NUM_LABEL = 3\n",
    "# 构造数据集的bacth\n",
    "BATCH_SIZE = 64\n",
    "# 最长序列长度，经前面分析，这里取240\n",
    "MAX_LEN = 240\n",
    "# bacth读取数据的缓存大小\n",
    "BUFFER_SIZE = tf.constant(len(train_text), dtype=tf.int64)\n",
    "\n",
    "\n",
    "def build_tf_dataset(words, label, is_train=False):\n",
    "    # 将前面的tokenzier用于当前文本进行id序列化\n",
    "    sequence = tokenizer.texts_to_sequences(words)\n",
    "    # 把所有序列补齐到最长序列长度，padding方式为在后面补齐\n",
    "    padded_sequence = pad_sequences(sequence, padding='post', maxlen=MAX_LEN)\n",
    "    # 将标签转化为tf的one-hot标签，即 1 -> [0, 1, 0]\n",
    "    label_tensor = tf.convert_to_tensor(\n",
    "        tf.one_hot(label, NUM_LABEL),\n",
    "        dtype=tf.float32\n",
    "    )\n",
    "    # 将序列化的文本数据与标签在一起制作tf dataset\n",
    "    dataset = tf.data.Dataset.from_tensor_slices(\n",
    "        (padded_sequence, label_tensor)\n",
    "    )\n",
    "    # 训练阶段\n",
    "    if is_train:\n",
    "        # 训练阶段将数据打乱\n",
    "        dataset = dataset.shuffle(BUFFER_SIZE)\n",
    "        # 按照batch_size构造数据集，去掉不能组成batch的多余数据\n",
    "        dataset = dataset.batch(BATCH_SIZE, drop_remainder=True)\n",
    "        # 训练时预先将所有的训练数据加载到内存中\n",
    "        dataset = dataset.prefetch(BUFFER_SIZE)\n",
    "    else:\n",
    "        # 非训练阶段无需打乱数据\n",
    "        dataset = dataset.batch(BATCH_SIZE, drop_remainder=False)\n",
    "        # 预读取一个Batch内容\n",
    "        dataset = dataset.prefetch(BATCH_SIZE)\n",
    "    return dataset\n",
    "\n",
    "\n",
    "# 分别构造训练、验证、测试tf数据集\n",
    "train_dataset = build_tf_dataset(train_text, train_label, is_train=True)\n",
    "val_dataset = build_tf_dataset(val_text, val_label, is_train=False)\n",
    "test_dataset = build_tf_dataset(test_text, test_label, is_train=False)"
   ]
  },
  {
   "cell_type": "code",
   "execution_count": 12,
   "metadata": {
    "scrolled": true
   },
   "outputs": [
    {
     "name": "stdout",
     "output_type": "stream",
     "text": [
      "texts:  [[ 821  383  204  146   82  570   18    3  287   20  541  487  727   82\n",
      "   256  219   20   46   40   87    5  256   19   82  487  727   82  256\n",
      "   325  325    5    0    0    0    0    0    0    0    0    0    0    0\n",
      "     0    0    0    0    0    0    0    0    0    0    0    0    0    0\n",
      "     0    0    0    0    0    0    0    0    0    0    0    0    0    0\n",
      "     0    0    0    0    0    0    0    0    0    0    0    0    0    0\n",
      "     0    0    0    0    0    0    0    0    0    0    0    0    0    0\n",
      "     0    0    0    0    0    0    0    0    0    0    0    0    0    0\n",
      "     0    0    0    0    0    0    0    0    0    0    0    0    0    0\n",
      "     0    0    0    0    0    0    0    0    0    0    0    0    0    0\n",
      "     0    0    0    0    0    0    0    0    0    0    0    0    0    0\n",
      "     0    0    0    0    0    0    0    0    0    0    0    0    0    0\n",
      "     0    0    0    0    0    0    0    0    0    0    0    0    0    0\n",
      "     0    0    0    0    0    0    0    0    0    0    0    0    0    0\n",
      "     0    0    0    0    0    0    0    0    0    0    0    0    0    0\n",
      "     0    0    0    0    0    0    0    0    0    0    0    0    0    0\n",
      "     0    0    0    0    0    0    0    0    0    0    0    0    0    0\n",
      "     0    0]\n",
      " [ 299  807   58    4  642    0    0    0    0    0    0    0    0    0\n",
      "     0    0    0    0    0    0    0    0    0    0    0    0    0    0\n",
      "     0    0    0    0    0    0    0    0    0    0    0    0    0    0\n",
      "     0    0    0    0    0    0    0    0    0    0    0    0    0    0\n",
      "     0    0    0    0    0    0    0    0    0    0    0    0    0    0\n",
      "     0    0    0    0    0    0    0    0    0    0    0    0    0    0\n",
      "     0    0    0    0    0    0    0    0    0    0    0    0    0    0\n",
      "     0    0    0    0    0    0    0    0    0    0    0    0    0    0\n",
      "     0    0    0    0    0    0    0    0    0    0    0    0    0    0\n",
      "     0    0    0    0    0    0    0    0    0    0    0    0    0    0\n",
      "     0    0    0    0    0    0    0    0    0    0    0    0    0    0\n",
      "     0    0    0    0    0    0    0    0    0    0    0    0    0    0\n",
      "     0    0    0    0    0    0    0    0    0    0    0    0    0    0\n",
      "     0    0    0    0    0    0    0    0    0    0    0    0    0    0\n",
      "     0    0    0    0    0    0    0    0    0    0    0    0    0    0\n",
      "     0    0    0    0    0    0    0    0    0    0    0    0    0    0\n",
      "     0    0    0    0    0    0    0    0    0    0    0    0    0    0\n",
      "     0    0]\n",
      " [  27   14   16  450  123 1386   72  603 1174  687 1003  101   70   24\n",
      "   281  149    1    1    1    1   21 4570  230  310    1    1    1    1\n",
      "   389  601  180  326  349  810  119  113   42  697  835  143 1015 1006\n",
      "   297 1117    2  114  194    0    0    0    0    0    0    0    0    0\n",
      "     0    0    0    0    0    0    0    0    0    0    0    0    0    0\n",
      "     0    0    0    0    0    0    0    0    0    0    0    0    0    0\n",
      "     0    0    0    0    0    0    0    0    0    0    0    0    0    0\n",
      "     0    0    0    0    0    0    0    0    0    0    0    0    0    0\n",
      "     0    0    0    0    0    0    0    0    0    0    0    0    0    0\n",
      "     0    0    0    0    0    0    0    0    0    0    0    0    0    0\n",
      "     0    0    0    0    0    0    0    0    0    0    0    0    0    0\n",
      "     0    0    0    0    0    0    0    0    0    0    0    0    0    0\n",
      "     0    0    0    0    0    0    0    0    0    0    0    0    0    0\n",
      "     0    0    0    0    0    0    0    0    0    0    0    0    0    0\n",
      "     0    0    0    0    0    0    0    0    0    0    0    0    0    0\n",
      "     0    0    0    0    0    0    0    0    0    0    0    0    0    0\n",
      "     0    0    0    0    0    0    0    0    0    0    0    0    0    0\n",
      "     0    0]]\n",
      "\n",
      "labels:  [[0. 1. 0.]\n",
      " [0. 1. 0.]\n",
      " [0. 1. 0.]]\n"
     ]
    }
   ],
   "source": [
    "for example, label in train_dataset.take(1):\n",
    "    print('texts: ', example.numpy()[:3])\n",
    "    print()\n",
    "    print('labels: ', label.numpy()[:3])"
   ]
  },
  {
   "cell_type": "markdown",
   "metadata": {},
   "source": [
    "## 3. 模型构建与训练\n",
    "### 3. 1加载预训练词向量"
   ]
  },
  {
   "cell_type": "code",
   "execution_count": 13,
   "metadata": {},
   "outputs": [],
   "source": [
    "# 词典大小，留一个unk字符\n",
    "VOCAB_SIZE = len(tokenizer.index_word) + 1\n",
    "# 词向量大小\n",
    "EMBEDDING_DIM = 100"
   ]
  },
  {
   "cell_type": "code",
   "execution_count": 3,
   "metadata": {},
   "outputs": [
    {
     "ename": "NameError",
     "evalue": "name 'np' is not defined",
     "output_type": "error",
     "traceback": [
      "\u001B[0;31m---------------------------------------------------------------------------\u001B[0m",
      "\u001B[0;31mNameError\u001B[0m                                 Traceback (most recent call last)",
      "\u001B[0;32m/var/folders/96/0jnny1gj02j8pgfvb9by368m0000gn/T/ipykernel_98835/1275906462.py\u001B[0m in \u001B[0;36m<module>\u001B[0;34m\u001B[0m\n\u001B[1;32m     29\u001B[0m \u001B[0mpretrained_vec_path\u001B[0m \u001B[0;34m=\u001B[0m \u001B[0;34m\"./word2vec/sg_ns_100.txt\"\u001B[0m\u001B[0;34m\u001B[0m\u001B[0;34m\u001B[0m\u001B[0m\n\u001B[1;32m     30\u001B[0m \u001B[0;31m# 加载预训练词向量\u001B[0m\u001B[0;34m\u001B[0m\u001B[0;34m\u001B[0m\u001B[0;34m\u001B[0m\u001B[0m\n\u001B[0;32m---> 31\u001B[0;31m \u001B[0membeddings\u001B[0m \u001B[0;34m=\u001B[0m \u001B[0mget_embeddings\u001B[0m\u001B[0;34m(\u001B[0m\u001B[0mpretrained_vec_path\u001B[0m\u001B[0;34m)\u001B[0m\u001B[0;34m\u001B[0m\u001B[0;34m\u001B[0m\u001B[0m\n\u001B[0m\u001B[1;32m     32\u001B[0m \u001B[0membeddings\u001B[0m\u001B[0;34m[\u001B[0m\u001B[0;34m:\u001B[0m\u001B[0;36m2\u001B[0m\u001B[0;34m]\u001B[0m\u001B[0;34m\u001B[0m\u001B[0;34m\u001B[0m\u001B[0m\n\u001B[1;32m     33\u001B[0m \u001B[0;34m\u001B[0m\u001B[0m\n",
      "\u001B[0;32m/var/folders/96/0jnny1gj02j8pgfvb9by368m0000gn/T/ipykernel_98835/1275906462.py\u001B[0m in \u001B[0;36mget_embeddings\u001B[0;34m(pretrain_vec_path)\u001B[0m\n\u001B[1;32m     11\u001B[0m     \u001B[0mword_vocab\u001B[0m \u001B[0;34m=\u001B[0m \u001B[0mset\u001B[0m\u001B[0;34m(\u001B[0m\u001B[0mword_vectors\u001B[0m\u001B[0;34m.\u001B[0m\u001B[0mkey_to_index\u001B[0m\u001B[0;34m.\u001B[0m\u001B[0mkeys\u001B[0m\u001B[0;34m(\u001B[0m\u001B[0;34m)\u001B[0m\u001B[0;34m)\u001B[0m\u001B[0;34m\u001B[0m\u001B[0;34m\u001B[0m\u001B[0m\n\u001B[1;32m     12\u001B[0m     \u001B[0;31m# 随机初始化tokenzier词表大小的向量\u001B[0m\u001B[0;34m\u001B[0m\u001B[0;34m\u001B[0m\u001B[0;34m\u001B[0m\u001B[0m\n\u001B[0;32m---> 13\u001B[0;31m     token_embeddings = np.random.uniform(\n\u001B[0m\u001B[1;32m     14\u001B[0m         \u001B[0;34m-\u001B[0m\u001B[0;36m0.2\u001B[0m\u001B[0;34m,\u001B[0m\u001B[0;34m\u001B[0m\u001B[0;34m\u001B[0m\u001B[0m\n\u001B[1;32m     15\u001B[0m         \u001B[0;36m0.2\u001B[0m\u001B[0;34m,\u001B[0m\u001B[0;34m\u001B[0m\u001B[0;34m\u001B[0m\u001B[0m\n",
      "\u001B[0;31mNameError\u001B[0m: name 'np' is not defined"
     ]
    },
    {
     "name": "stderr",
     "output_type": "stream",
     "text": [
      "Traceback (most recent call last):\n",
      "  File \"_pydevd_bundle/pydevd_cython_darwin_38_64.pyx\", line 996, in _pydevd_bundle.pydevd_cython_darwin_38_64.PyDBFrame.trace_dispatch\n",
      "  File \"/Applications/PyCharm.app/Contents/plugins/python/helpers-pro/jupyter_debug/pydev_jupyter_plugin.py\", line 116, in cmd_step_into\n",
      "    if _is_inside_jupyter_cell(frame, pydb) and not filename.endswith(\"iostream.py\"):\n",
      "  File \"/Applications/PyCharm.app/Contents/plugins/python/helpers-pro/jupyter_debug/pydev_jupyter_plugin.py\", line 209, in _is_inside_jupyter_cell\n",
      "    if is_cell_filename(filename):\n",
      "  File \"/Applications/PyCharm.app/Contents/plugins/python/helpers-pro/jupyter_debug/pydev_jupyter_plugin.py\", line 220, in is_cell_filename\n",
      "    ipython_shell = get_ipython()\n",
      "NameError: name 'get_ipython' is not defined\n"
     ]
    }
   ],
   "source": [
    "from gensim.models.keyedvectors import KeyedVectors\n",
    "\n",
    "\n",
    "def get_embeddings(pretrain_vec_path):\n",
    "    # 加载训练好的词向量为KeyedVectors\n",
    "    word_vectors = KeyedVectors.load_word2vec_format(\n",
    "        pretrain_vec_path, binary=False\n",
    "    )\n",
    "    # 取出预训练词向量的词汇表\n",
    "    word_vocab = set(word_vectors.key_to_index.keys())\n",
    "    # 随机初始化tokenzier词表大小的向量\n",
    "    token_embeddings = np.random.uniform(\n",
    "        -0.2,\n",
    "        0.2,\n",
    "        size=(VOCAB_SIZE, EMBEDDING_DIM)\n",
    "    )\n",
    "    # 从1开始，0是tokenzier预留的索引\n",
    "    for i in range(1, VOCAB_SIZE):\n",
    "        # 取出tokenzier索引对应的词\n",
    "        word = tokenizer.index_word[i]\n",
    "        # 如果词出现在预训练的词中\n",
    "        if word in word_vocab:\n",
    "            # 就将预训练的词向量赋值给它，替换随机初始化\n",
    "            token_embeddings[i, :] = word_vectors.get_vector(word)\n",
    "    return token_embeddings\n",
    "\n",
    "\n",
    "pretrained_vec_path = \"./word2vec/sg_ns_100.txt\"\n",
    "# 加载预训练词向量\n",
    "embeddings = get_embeddings(pretrained_vec_path)\n",
    "embeddings[:2]"
   ]
  },
  {
   "cell_type": "markdown",
   "metadata": {},
   "source": [
    "### 3.2 模型定义\n",
    "\n",
    "![jupyter](./imgs/textcnn.png)"
   ]
  },
  {
   "cell_type": "code",
   "execution_count": 15,
   "metadata": {},
   "outputs": [],
   "source": [
    "# 3种卷积核的filter size\n",
    "FILTERS = [2, 3, 5]\n",
    "# 卷积核的大小\n",
    "NUM_FILTERS = 128\n",
    "# 全连接层大小\n",
    "DENSE_DIM = 256\n",
    "# 类别数\n",
    "CLASS_NUM = 3\n",
    "# dropout比例\n",
    "DROPOUT_RATE = 0.5"
   ]
  },
  {
   "cell_type": "code",
   "execution_count": 16,
   "metadata": {},
   "outputs": [
    {
     "name": "stdout",
     "output_type": "stream",
     "text": [
      "Model: \"functional_1\"\n",
      "__________________________________________________________________________________________________\n",
      "Layer (type)                    Output Shape         Param #     Connected to                     \n",
      "==================================================================================================\n",
      "input_data (InputLayer)         [(None, None)]       0                                            \n",
      "__________________________________________________________________________________________________\n",
      "embedding (Embedding)           (None, None, 100)    630800      input_data[0][0]                 \n",
      "__________________________________________________________________________________________________\n",
      "dropout (Dropout)               (None, None, 100)    0           embedding[0][0]                  \n",
      "__________________________________________________________________________________________________\n",
      "conv1d (Conv1D)                 (None, None, 128)    25728       dropout[0][0]                    \n",
      "__________________________________________________________________________________________________\n",
      "conv1d_1 (Conv1D)               (None, None, 128)    38528       dropout[0][0]                    \n",
      "__________________________________________________________________________________________________\n",
      "conv1d_2 (Conv1D)               (None, None, 128)    64128       dropout[0][0]                    \n",
      "__________________________________________________________________________________________________\n",
      "global_max_pooling1d (GlobalMax (None, 128)          0           conv1d[0][0]                     \n",
      "__________________________________________________________________________________________________\n",
      "global_max_pooling1d_1 (GlobalM (None, 128)          0           conv1d_1[0][0]                   \n",
      "__________________________________________________________________________________________________\n",
      "global_max_pooling1d_2 (GlobalM (None, 128)          0           conv1d_2[0][0]                   \n",
      "__________________________________________________________________________________________________\n",
      "concatenate (Concatenate)       (None, 384)          0           global_max_pooling1d[0][0]       \n",
      "                                                                 global_max_pooling1d_1[0][0]     \n",
      "                                                                 global_max_pooling1d_2[0][0]     \n",
      "__________________________________________________________________________________________________\n",
      "dense (Dense)                   (None, 256)          98560       concatenate[0][0]                \n",
      "__________________________________________________________________________________________________\n",
      "dropout_1 (Dropout)             (None, 256)          0           dense[0][0]                      \n",
      "__________________________________________________________________________________________________\n",
      "dense_1 (Dense)                 (None, 3)            771         dropout_1[0][0]                  \n",
      "==================================================================================================\n",
      "Total params: 858,515\n",
      "Trainable params: 858,515\n",
      "Non-trainable params: 0\n",
      "__________________________________________________________________________________________________\n"
     ]
    }
   ],
   "source": [
    "# 定义一个TextCNN的TF Keras model\n",
    "\n",
    "def build_text_cnn_model():\n",
    "    # 模型输入\n",
    "    inputs = tf.keras.Input(shape=(None,), name='input_data')\n",
    "    # embedding层定义\n",
    "    embed = tf.keras.layers.Embedding(\n",
    "        # 词表大小\n",
    "        input_dim=VOCAB_SIZE,\n",
    "        # 词向量维度\n",
    "        output_dim=EMBEDDING_DIM,\n",
    "        # # 加载预训练的词向量\n",
    "        # embeddings_initializer=tf.keras.initializers.Constant(embeddings),\n",
    "        # 词向量是否训练\n",
    "        trainable=True,\n",
    "        # 标记是否用0进行mask标记序列补齐到固定长度\n",
    "        mask_zero=True\n",
    "    )(inputs)\n",
    "    # 在embedding层后接dropout\n",
    "    embed = tf.keras.layers.Dropout(DROPOUT_RATE)(embed)\n",
    "\n",
    "    pool_outputs = []\n",
    "    # 分别对文本进行应用不同filter size的卷积\n",
    "    for filter_size in FILTERS:\n",
    "        conv = tf.keras.layers.Conv1D(\n",
    "            # 卷积核大小\n",
    "            filters=NUM_FILTERS,\n",
    "            # filter size\n",
    "            kernel_size=filter_size,\n",
    "            # same padding\n",
    "            padding='same',\n",
    "            # 激活函数\n",
    "            activation='relu',\n",
    "            # 数据格式，最后一维是通道\n",
    "            data_format='channels_last',\n",
    "            # 标记是否使用bias\n",
    "            use_bias=True\n",
    "        )(embed)\n",
    "        # 卷积后进行max pooling\n",
    "        max_pool = tf.keras.layers.GlobalMaxPooling1D(\n",
    "            data_format='channels_last'\n",
    "        )(conv)\n",
    "        # 将对应filter size大小卷积池化后的结果存到list\n",
    "        pool_outputs.append(max_pool)\n",
    "\n",
    "    # 将不同filter size卷积池化后的结果进行拼接\n",
    "    outputs = tf.keras.layers.concatenate(pool_outputs, axis=-1)\n",
    "    # dense层\n",
    "    outputs = tf.keras.layers.Dense(DENSE_DIM, activation='relu')(outputs)\n",
    "    # 对全连接层进行dropout\n",
    "    outputs = tf.keras.layers.Dropout(DROPOUT_RATE)(outputs)\n",
    "    # 最终的分类层\n",
    "    outputs = tf.keras.layers.Dense(CLASS_NUM, activation='softmax')(outputs)\n",
    "    model = tf.keras.Model(inputs=inputs, outputs=outputs)\n",
    "    return model\n",
    "\n",
    "\n",
    "text_cnn_model = build_text_cnn_model()\n",
    "text_cnn_model.summary()"
   ]
  },
  {
   "cell_type": "markdown",
   "metadata": {},
   "source": [
    "### 3.3 模型训练"
   ]
  },
  {
   "cell_type": "code",
   "execution_count": 17,
   "metadata": {
    "scrolled": true
   },
   "outputs": [
    {
     "name": "stdout",
     "output_type": "stream",
     "text": [
      "Epoch 1/10\n",
      "1168/1168 [==============================] - 16s 14ms/step - loss: 0.2464 - accuracy: 0.6117 - val_loss: 0.7698 - val_accuracy: 0.6438\n",
      "Epoch 2/10\n",
      "1168/1168 [==============================] - 16s 13ms/step - loss: 0.2038 - accuracy: 0.6769 - val_loss: 0.7227 - val_accuracy: 0.6612\n",
      "Epoch 3/10\n",
      "1168/1168 [==============================] - 16s 13ms/step - loss: 0.1942 - accuracy: 0.6896 - val_loss: 0.7181 - val_accuracy: 0.6602\n",
      "Epoch 4/10\n",
      "1168/1168 [==============================] - 16s 13ms/step - loss: 0.1885 - accuracy: 0.6973 - val_loss: 0.7432 - val_accuracy: 0.6488\n",
      "Epoch 5/10\n",
      "1168/1168 [==============================] - 16s 13ms/step - loss: 0.1837 - accuracy: 0.7070 - val_loss: 0.7318 - val_accuracy: 0.6556\n",
      "Epoch 6/10\n",
      "1168/1168 [==============================] - 16s 13ms/step - loss: 0.1795 - accuracy: 0.7133 - val_loss: 0.7394 - val_accuracy: 0.6496\n",
      "Epoch 7/10\n",
      "1168/1168 [==============================] - 16s 13ms/step - loss: 0.1750 - accuracy: 0.7202 - val_loss: 0.7240 - val_accuracy: 0.6610\n"
     ]
    }
   ],
   "source": [
    "# 学习率\n",
    "LR = 3e-4\n",
    "# 迭代次数\n",
    "EPOCHS = 10\n",
    "# 早停等待次数\n",
    "EARLY_STOP_PATIENCE = 5\n",
    "\n",
    "# 定义Loss为分类的交叉熵损失函数\n",
    "loss_fn = tf.keras.losses.CategoricalCrossentropy()\n",
    "# 定义优化器为Adam优化器\n",
    "optimizer = tf.keras.optimizers.Adam(LR)\n",
    "\n",
    "# 编译模型\n",
    "text_cnn_model.compile(\n",
    "    loss=loss_fn,\n",
    "    optimizer=optimizer,\n",
    "    # 使用accuracy进行评价\n",
    "    metrics=['accuracy']\n",
    ")\n",
    "\n",
    "# 添加一个早停的callback,可减少模型过拟合\n",
    "callback = tf.keras.callbacks.EarlyStopping(\n",
    "    # 通过验证集的accuracy做监控指标，几个epoch该指标不再上升，则早停\n",
    "    monitor='val_accuracy',\n",
    "    # 标记几个epoch该指标不再上升，则早停\n",
    "    patience=EARLY_STOP_PATIENCE,\n",
    "    # 标记是否还原在监控指标中取得最好结果的模型权重\n",
    "    restore_best_weights=True\n",
    ")\n",
    "\n",
    "# 样本分布不均衡的解决：通过对不同标签的损失进行加权\n",
    "# 这里标签1的数据最多，降低其权重\n",
    "class_weight = {0: 0.4, 1: 0.2, 2: 0.4}\n",
    "\n",
    "# 模型训练\n",
    "history = text_cnn_model.fit(\n",
    "    # 输入训练数据集\n",
    "    train_dataset,\n",
    "    # 迭代次数\n",
    "    epochs=EPOCHS,\n",
    "    # 回调函数\n",
    "    callbacks=[callback],\n",
    "    # 指定验证集\n",
    "    validation_data=val_dataset,\n",
    "    # 对不同类别进行加权\n",
    "    class_weight=class_weight\n",
    ")"
   ]
  },
  {
   "cell_type": "code",
   "execution_count": 18,
   "metadata": {},
   "outputs": [
    {
     "name": "stdout",
     "output_type": "stream",
     "text": [
      "157/157 [==============================] - 1s 4ms/step - loss: 0.7176 - accuracy: 0.6693\n",
      "Test Loss: 0.7176308035850525\n",
      "Test Accuracy: 0.6693338751792908\n"
     ]
    }
   ],
   "source": [
    "# 在测试集上进行评估\n",
    "test_loss, test_acc = text_cnn_model.evaluate(test_dataset)\n",
    "\n",
    "print('Test Loss:', test_loss)\n",
    "print('Test Accuracy:', test_acc)"
   ]
  },
  {
   "cell_type": "code",
   "execution_count": 19,
   "metadata": {},
   "outputs": [],
   "source": [
    "import matplotlib.pyplot as plt\n",
    "\n",
    "def plot_graphs(history, metric):\n",
    "    plt.plot(history.history[metric])\n",
    "    plt.plot(history.history['val_' + metric], '')\n",
    "    plt.xlabel(\"Epochs\")\n",
    "    plt.ylabel(metric)\n",
    "    plt.legend([metric, 'val_' + metric])"
   ]
  },
  {
   "cell_type": "code",
   "execution_count": 20,
   "metadata": {
    "scrolled": false
   },
   "outputs": [
    {
     "data": {
      "text/plain": [
       "(0.0, 0.7995056927204132)"
      ]
     },
     "execution_count": 20,
     "metadata": {},
     "output_type": "execute_result"
    },
    {
     "data": {
      "image/png": "[encoded data removed]",
      "text/plain": [
       "<Figure size 1152x576 with 2 Axes>"
      ]
     },
     "metadata": {
      "needs_background": "light"
     },
     "output_type": "display_data"
    }
   ],
   "source": [
    "# 将训练过程进行可视化\n",
    "\n",
    "plt.figure(figsize=(16, 8))\n",
    "plt.subplot(1, 2, 1)\n",
    "plot_graphs(history, 'accuracy')\n",
    "plt.ylim(None, 1)\n",
    "plt.subplot(1, 2, 2)\n",
    "plot_graphs(history, 'loss')\n",
    "plt.ylim(0, None)"
   ]
  },
  {
   "cell_type": "code",
   "execution_count": 21,
   "metadata": {},
   "outputs": [
    {
     "name": "stdout",
     "output_type": "stream",
     "text": [
      "WARNING:tensorflow:From /home/teacher/.local/lib/python3.8/site-packages/tensorflow/python/training/tracking/tracking.py:111: Model.state_updates (from tensorflow.python.keras.engine.training) is deprecated and will be removed in a future version.\n",
      "Instructions for updating:\n",
      "This property should not be used in TensorFlow 2.0, as updates are applied automatically.\n",
      "WARNING:tensorflow:From /home/teacher/.local/lib/python3.8/site-packages/tensorflow/python/training/tracking/tracking.py:111: Layer.updates (from tensorflow.python.keras.engine.base_layer) is deprecated and will be removed in a future version.\n",
      "Instructions for updating:\n",
      "This property should not be used in TensorFlow 2.0, as updates are applied automatically.\n",
      "INFO:tensorflow:Assets written to: ./model/text_cnn/assets\n"
     ]
    }
   ],
   "source": [
    "# 保存训练好的模型\n",
    "model_save_path = './model/text_cnn'\n",
    "\n",
    "text_cnn_model.save(model_save_path)"
   ]
  },
  {
   "cell_type": "markdown",
   "metadata": {},
   "source": [
    "### 3.4 模型评估"
   ]
  },
  {
   "cell_type": "code",
   "execution_count": 22,
   "metadata": {},
   "outputs": [
    {
     "data": {
      "text/plain": [
       "array([[0.13284105, 0.68675524, 0.18040365],\n",
       "       [0.17581712, 0.4248113 , 0.3993716 ],\n",
       "       [0.1540485 , 0.54412735, 0.30182415],\n",
       "       [0.3499045 , 0.31558296, 0.33451253],\n",
       "       [0.38513228, 0.42451873, 0.19034901],\n",
       "       [0.5639943 , 0.3865751 , 0.04943058],\n",
       "       [0.03249473, 0.230097  , 0.73740834],\n",
       "       [0.6131127 , 0.2869413 , 0.09994598],\n",
       "       [0.58062726, 0.273777  , 0.14559576],\n",
       "       [0.11190969, 0.26352182, 0.62456846]], dtype=float32)"
      ]
     },
     "execution_count": 22,
     "metadata": {},
     "output_type": "execute_result"
    }
   ],
   "source": [
    "# 对测试集进行预测，得到每个测试样本的在各个标签的分数\n",
    "predictions = text_cnn_model.predict(test_dataset)\n",
    "predictions[:10]"
   ]
  },
  {
   "cell_type": "code",
   "execution_count": 23,
   "metadata": {},
   "outputs": [
    {
     "data": {
      "text/plain": [
       "array([1, 1, 1, 0, 1, 0, 2, 0, 0, 2])"
      ]
     },
     "execution_count": 23,
     "metadata": {},
     "output_type": "execute_result"
    }
   ],
   "source": [
    "# 取出每个测试样本分数最大的标签作为预测标签\n",
    "preds = np.argmax(predictions, axis=-1)\n",
    "preds[:10]"
   ]
  },
  {
   "cell_type": "code",
   "execution_count": 24,
   "metadata": {},
   "outputs": [
    {
     "name": "stdout",
     "output_type": "stream",
     "text": [
      "              precision    recall  f1-score   support\n",
      "\n",
      "           0       0.48      0.78      0.60      1796\n",
      "           1       0.83      0.60      0.70      5651\n",
      "           2       0.63      0.74      0.68      2551\n",
      "\n",
      "    accuracy                           0.67      9998\n",
      "   macro avg       0.65      0.71      0.66      9998\n",
      "weighted avg       0.72      0.67      0.68      9998\n",
      "\n"
     ]
    }
   ],
   "source": [
    "from sklearn.metrics import classification_report\n",
    "\n",
    "# 查看分类结果\n",
    "result = classification_report(test_label, preds)\n",
    "print(result)"
   ]
  },
  {
   "cell_type": "markdown",
   "metadata": {},
   "source": [
    "## 4. 模型预测\n",
    "\n",
    "训练好的模型如何进行在线预测\n",
    "1. 加载保存好的模型\n",
    "2. 对预测文本进行预处理、tokenizer以及padding\n",
    "3. 输入模型进行预测\n",
    "4. 展示预测结果"
   ]
  },
  {
   "cell_type": "code",
   "execution_count": 25,
   "metadata": {},
   "outputs": [
    {
     "name": "stdout",
     "output_type": "stream",
     "text": [
      "Model: \"functional_1\"\n",
      "__________________________________________________________________________________________________\n",
      "Layer (type)                    Output Shape         Param #     Connected to                     \n",
      "==================================================================================================\n",
      "input_data (InputLayer)         [(None, None)]       0                                            \n",
      "__________________________________________________________________________________________________\n",
      "embedding (Embedding)           (None, None, 100)    630800      input_data[0][0]                 \n",
      "__________________________________________________________________________________________________\n",
      "dropout (Dropout)               (None, None, 100)    0           embedding[0][0]                  \n",
      "__________________________________________________________________________________________________\n",
      "conv1d (Conv1D)                 (None, None, 128)    25728       dropout[0][0]                    \n",
      "__________________________________________________________________________________________________\n",
      "conv1d_1 (Conv1D)               (None, None, 128)    38528       dropout[0][0]                    \n",
      "__________________________________________________________________________________________________\n",
      "conv1d_2 (Conv1D)               (None, None, 128)    64128       dropout[0][0]                    \n",
      "__________________________________________________________________________________________________\n",
      "global_max_pooling1d (GlobalMax (None, 128)          0           conv1d[0][0]                     \n",
      "__________________________________________________________________________________________________\n",
      "global_max_pooling1d_1 (GlobalM (None, 128)          0           conv1d_1[0][0]                   \n",
      "__________________________________________________________________________________________________\n",
      "global_max_pooling1d_2 (GlobalM (None, 128)          0           conv1d_2[0][0]                   \n",
      "__________________________________________________________________________________________________\n",
      "concatenate (Concatenate)       (None, 384)          0           global_max_pooling1d[0][0]       \n",
      "                                                                 global_max_pooling1d_1[0][0]     \n",
      "                                                                 global_max_pooling1d_2[0][0]     \n",
      "__________________________________________________________________________________________________\n",
      "dense (Dense)                   (None, 256)          98560       concatenate[0][0]                \n",
      "__________________________________________________________________________________________________\n",
      "dropout_1 (Dropout)             (None, 256)          0           dense[0][0]                      \n",
      "__________________________________________________________________________________________________\n",
      "dense_1 (Dense)                 (None, 3)            771         dropout_1[0][0]                  \n",
      "==================================================================================================\n",
      "Total params: 858,515\n",
      "Trainable params: 858,515\n",
      "Non-trainable params: 0\n",
      "__________________________________________________________________________________________________\n"
     ]
    }
   ],
   "source": [
    "# 加载训练好的Tokenzier\n",
    "tokenizer_save_path = './model/tokenizer.pkl'\n",
    "tokenizer = joblib.load(tokenizer_save_path)\n",
    "\n",
    "# 加载TextCNN模型\n",
    "model_save_path = './model/text_cnn'\n",
    "text_cnn_model = tf.keras.models.load_model(model_save_path)\n",
    "text_cnn_model.summary()"
   ]
  },
  {
   "cell_type": "code",
   "execution_count": 26,
   "metadata": {},
   "outputs": [
    {
     "data": {
      "text/plain": [
       "array([[0.7622092 , 0.15547498, 0.08231588],\n",
       "       [0.15637168, 0.45522764, 0.3884007 ],\n",
       "       [0.02579996, 0.17541012, 0.7987899 ]], dtype=float32)"
      ]
     },
     "execution_count": 26,
     "metadata": {},
     "output_type": "execute_result"
    }
   ],
   "source": [
    "predict_sentences = [\n",
    "    \"因为疫情被困家里2个月了，好压抑啊，感觉自己抑郁了！\",\n",
    "    \"我国又一个新冠病毒疫苗获批紧急使用。\",\n",
    "    \"我们在一起，打赢这场仗，抗击新馆疫情，我们在行动！\"]\n",
    "\n",
    "# 预处理文本\n",
    "predict_texts = [preprocess_text(text) for text in predict_sentences]\n",
    "# 进行tokenizer\n",
    "predict_sequences = tokenizer.texts_to_sequences(predict_texts)\n",
    "# 进行padding\n",
    "sequence_padded = pad_sequences(\n",
    "    predict_sequences,\n",
    "    padding='post',\n",
    "    maxlen=MAX_LEN\n",
    ")\n",
    "# 得到预测的Logits\n",
    "predict_logits = text_cnn_model.predict(sequence_padded)\n",
    "predict_logits"
   ]
  },
  {
   "cell_type": "code",
   "execution_count": 27,
   "metadata": {},
   "outputs": [
    {
     "data": {
      "text/plain": [
       "[-1, 0, 1]"
      ]
     },
     "execution_count": 27,
     "metadata": {},
     "output_type": "execute_result"
    }
   ],
   "source": [
    "# 取出分数最高的标签\n",
    "predict_results = np.argmax(predict_logits, axis=1)\n",
    "# 还原标签\n",
    "predict_labels = [label - 1 for label in predict_results]\n",
    "predict_labels"
   ]
  },
  {
   "cell_type": "code",
   "execution_count": 28,
   "metadata": {},
   "outputs": [
    {
     "name": "stdout",
     "output_type": "stream",
     "text": [
      "Text: 因为疫情被困家里2个月了，好压抑啊，感觉自己抑郁了！\n",
      "Predict: -1\n",
      "Text: 我国又一个新冠病毒疫苗获批紧急使用。\n",
      "Predict: 0\n",
      "Text: 我们在一起，打赢这场仗，抗击新馆疫情，我们在行动！\n",
      "Predict: 1\n"
     ]
    }
   ],
   "source": [
    "# 展示预测结果\n",
    "for text, label in zip(predict_sentences, predict_labels):\n",
    "    print(f'Text: {text}\\nPredict: {label}')"
   ]
  },
  {
   "cell_type": "markdown",
   "metadata": {},
   "source": [
    "## 5. 模型优化\n",
    "### 5.1 TextRNN\n",
    "RNN/LSTM 相对CNN更能捕捉序列信息，在短文本分类领域更适合\n",
    "\n",
    "![jupyter](./imgs/textrnn.jpg)"
   ]
  },
  {
   "cell_type": "code",
   "execution_count": 29,
   "metadata": {},
   "outputs": [
    {
     "name": "stdout",
     "output_type": "stream",
     "text": [
      "Model: \"sequential\"\n",
      "_________________________________________________________________\n",
      "Layer (type)                 Output Shape              Param #   \n",
      "=================================================================\n",
      "embedding_1 (Embedding)      (None, None, 100)         630800    \n",
      "_________________________________________________________________\n",
      "dropout_2 (Dropout)          (None, None, 100)         0         \n",
      "_________________________________________________________________\n",
      "bidirectional (Bidirectional (None, 512)               731136    \n",
      "_________________________________________________________________\n",
      "dense_2 (Dense)              (None, 128)               65664     \n",
      "_________________________________________________________________\n",
      "dropout_3 (Dropout)          (None, 128)               0         \n",
      "_________________________________________________________________\n",
      "dense_3 (Dense)              (None, 3)                 387       \n",
      "=================================================================\n",
      "Total params: 1,427,987\n",
      "Trainable params: 1,427,987\n",
      "Non-trainable params: 0\n",
      "_________________________________________________________________\n"
     ]
    }
   ],
   "source": [
    "# LSTM的维度\n",
    "LSTM_DIM = 256\n",
    "# 全连接层大小\n",
    "DENSE_DIM = 128\n",
    "\n",
    "# 通过Sequential方式定义TextRNN model\n",
    "# 其他层都与TextCNN一致\n",
    "# 将特征抽取层替换为BiLSTM\n",
    "text_rnn_model = tf.keras.Sequential(\n",
    "    [\n",
    "    tf.keras.layers.Embedding(\n",
    "        input_dim=VOCAB_SIZE,\n",
    "        output_dim=EMBEDDING_DIM,\n",
    "        # embeddings_initializer=tf.keras.initializers.Constant(embeddings),\n",
    "        trainable=True,\n",
    "        mask_zero=True\n",
    "    ),\n",
    "    tf.keras.layers.Dropout(DROPOUT_RATE),\n",
    "    # # 若两层BiLSTM, 第一层应return_sequences，然后继续接一层\n",
    "    # tf.keras.layers.Bidirectional(\n",
    "    #     tf.keras.layers.LSTM(LSTM_DIM * 2,  return_sequences=True)\n",
    "    # ),\n",
    "    # 加一层双向LSTM进行特征抽取\n",
    "    tf.keras.layers.Bidirectional(\n",
    "        tf.keras.layers.LSTM(LSTM_DIM)\n",
    "    ),\n",
    "    tf.keras.layers.Dense(DENSE_DIM, activation='relu'),\n",
    "    tf.keras.layers.Dropout(DROPOUT_RATE),\n",
    "    tf.keras.layers.Dense(CLASS_NUM, activation='softmax')\n",
    "    ]\n",
    ")\n",
    "\n",
    "text_rnn_model.summary()"
   ]
  },
  {
   "cell_type": "markdown",
   "metadata": {},
   "source": [
    "### 5.2 上采样与下采样\n",
    "解决数据不平衡问题，可对数据比较多的标签进行下采样，对数据较少的标签进行上采样，达到数据集标签分布的平衡   \n",
    "下面是如何通过Tf dataset的方式构造平衡的数据集   \n",
    "在前面的分析中各标签数据分布为: [17.96, 56.83, 25.21]   \n",
    "这里构造一个相对平衡的数据集，设置各标签数据分布为 [0.3, 0.4, 0.3]"
   ]
  },
  {
   "cell_type": "code",
   "execution_count": 30,
   "metadata": {},
   "outputs": [],
   "source": [
    "labels = [0, 1, 2]\n",
    "# 对[0, 1, 2]标签的数据不同的采样权重，强行定义采样\n",
    "balance_weights = [0.3, 0.4, 0.3]\n",
    "dataset_each_label = []\n",
    "\n",
    "for current_label in labels:\n",
    "    # 将训练集数据取消batch，选出对应标签的数据集，\n",
    "    # 然后设置repeat，则可有放回的采样，以实现上采样\n",
    "    current_label_dataset = train_dataset.unbatch().filter(\n",
    "        lambda example, label: tf.argmax(label) == current_label).repeat()\n",
    "    dataset_each_label.append(current_label_dataset)\n",
    "\n",
    "# 通过相对平衡的采样权重，构造相对平衡的数据集\n",
    "balanced_train_dataset = tf.data.experimental.sample_from_datasets(\n",
    "    dataset_each_label, weights=balance_weights)\n",
    "balanced_train_dataset = balanced_train_dataset.shuffle(BUFFER_SIZE)\\\n",
    "    .batch(BATCH_SIZE).prefetch(BUFFER_SIZE)"
   ]
  },
  {
   "cell_type": "code",
   "execution_count": 31,
   "metadata": {
    "scrolled": true
   },
   "outputs": [
    {
     "name": "stdout",
     "output_type": "stream",
     "text": [
      "texts:  [[ 201  363    3   46  149  712   14   16   38   86  668  253   92  234\n",
      "   332  124    9  729   92   11   38   86   43   44   14   16    3  109\n",
      "     2   79   91    4   83   66  110   36   37   66  110  167  103   66\n",
      "   110   17   27    0    0    0    0    0    0    0    0    0    0    0\n",
      "     0    0    0    0    0    0    0    0    0    0    0    0    0    0\n",
      "     0    0    0    0    0    0    0    0    0    0    0    0    0    0\n",
      "     0    0    0    0    0    0    0    0    0    0    0    0    0    0\n",
      "     0    0    0    0    0    0    0    0    0    0    0    0    0    0\n",
      "     0    0    0    0    0    0    0    0    0    0    0    0    0    0\n",
      "     0    0    0    0    0    0    0    0    0    0    0    0    0    0\n",
      "     0    0    0    0    0    0    0    0    0    0    0    0    0    0\n",
      "     0    0    0    0    0    0    0    0    0    0    0    0    0    0\n",
      "     0    0    0    0    0    0    0    0    0    0    0    0    0    0\n",
      "     0    0    0    0    0    0    0    0    0    0    0    0    0    0\n",
      "     0    0    0    0    0    0    0    0    0    0    0    0    0    0\n",
      "     0    0    0    0    0    0    0    0    0    0    0    0    0    0\n",
      "     0    0    0    0    0    0    0    0    0    0    0    0    0    0\n",
      "     0    0]\n",
      " [   8 2700    8 2700    8  272 2169  402   15    7 2067    7 2446    0\n",
      "     0    0    0    0    0    0    0    0    0    0    0    0    0    0\n",
      "     0    0    0    0    0    0    0    0    0    0    0    0    0    0\n",
      "     0    0    0    0    0    0    0    0    0    0    0    0    0    0\n",
      "     0    0    0    0    0    0    0    0    0    0    0    0    0    0\n",
      "     0    0    0    0    0    0    0    0    0    0    0    0    0    0\n",
      "     0    0    0    0    0    0    0    0    0    0    0    0    0    0\n",
      "     0    0    0    0    0    0    0    0    0    0    0    0    0    0\n",
      "     0    0    0    0    0    0    0    0    0    0    0    0    0    0\n",
      "     0    0    0    0    0    0    0    0    0    0    0    0    0    0\n",
      "     0    0    0    0    0    0    0    0    0    0    0    0    0    0\n",
      "     0    0    0    0    0    0    0    0    0    0    0    0    0    0\n",
      "     0    0    0    0    0    0    0    0    0    0    0    0    0    0\n",
      "     0    0    0    0    0    0    0    0    0    0    0    0    0    0\n",
      "     0    0    0    0    0    0    0    0    0    0    0    0    0    0\n",
      "     0    0    0    0    0    0    0    0    0    0    0    0    0    0\n",
      "     0    0    0    0    0    0    0    0    0    0    0    0    0    0\n",
      "     0    0]\n",
      " [1740  621  231    8    5  120  213  331  117  117  117  117  117  117\n",
      "   117  117  117   10   22   58  247  238  131  433  177  162  162   57\n",
      "   247  247  445  976  939  964   58  247  238  131  433  177  162  162\n",
      "    57  247  247  157  649  149 2584  113   50   60   10   22    9  403\n",
      "   402   46   52    7  476  106   10  295   52    7  476  343 1188  594\n",
      "   259   51  295  326  130  214  763   55  184    2  454  925   70    7\n",
      "  1385  664  295  610   52  213   21   69  445  976  939  964   58    7\n",
      "   281  868  699  780  302  724 1013 1375   28 1684  449  991    0    0\n",
      "     0    0    0    0    0    0    0    0    0    0    0    0    0    0\n",
      "     0    0    0    0    0    0    0    0    0    0    0    0    0    0\n",
      "     0    0    0    0    0    0    0    0    0    0    0    0    0    0\n",
      "     0    0    0    0    0    0    0    0    0    0    0    0    0    0\n",
      "     0    0    0    0    0    0    0    0    0    0    0    0    0    0\n",
      "     0    0    0    0    0    0    0    0    0    0    0    0    0    0\n",
      "     0    0    0    0    0    0    0    0    0    0    0    0    0    0\n",
      "     0    0    0    0    0    0    0    0    0    0    0    0    0    0\n",
      "     0    0    0    0    0    0    0    0    0    0    0    0    0    0\n",
      "     0    0]]\n",
      "\n",
      "labels:  [[0. 0. 1.]\n",
      " [0. 0. 1.]\n",
      " [0. 0. 1.]]\n"
     ]
    }
   ],
   "source": [
    "for example, label in balanced_train_dataset.take(1):\n",
    "    print('texts: ', example.numpy()[:3])\n",
    "    print()\n",
    "    print('labels: ', label.numpy()[:3])"
   ]
  },
  {
   "cell_type": "code",
   "execution_count": 33,
   "metadata": {},
   "outputs": [
    {
     "name": "stdout",
     "output_type": "stream",
     "text": [
      "Epoch 1/10\n",
      "20000/20000 [==============================] - 302s 15ms/step - loss: 0.1734 - accuracy: 0.7266 - val_loss: 0.8885 - val_accuracy: 0.6208\n",
      "Epoch 2/10\n",
      "20000/20000 [==============================] - 301s 15ms/step - loss: 0.1254 - accuracy: 0.7945 - val_loss: 0.9469 - val_accuracy: 0.6484\n",
      "Epoch 3/10\n",
      "20000/20000 [==============================] - 301s 15ms/step - loss: 0.1090 - accuracy: 0.8211 - val_loss: 1.0324 - val_accuracy: 0.6432\n",
      "Epoch 4/10\n",
      "20000/20000 [==============================] - 301s 15ms/step - loss: 0.0998 - accuracy: 0.8370 - val_loss: 1.0880 - val_accuracy: 0.6570\n",
      "Epoch 5/10\n",
      "20000/20000 [==============================] - 301s 15ms/step - loss: 0.0929 - accuracy: 0.8490 - val_loss: 1.1518 - val_accuracy: 0.6624\n",
      "Epoch 6/10\n",
      "20000/20000 [==============================] - 302s 15ms/step - loss: 0.0878 - accuracy: 0.8581 - val_loss: 1.1482 - val_accuracy: 0.6742\n",
      "Epoch 7/10\n",
      "20000/20000 [==============================] - 302s 15ms/step - loss: 0.0833 - accuracy: 0.8668 - val_loss: 1.1517 - val_accuracy: 0.6722\n",
      "Epoch 8/10\n",
      "20000/20000 [==============================] - 286s 14ms/step - loss: 0.0800 - accuracy: 0.8729 - val_loss: 1.2663 - val_accuracy: 0.6816\n",
      "Epoch 9/10\n",
      "20000/20000 [==============================] - 282s 14ms/step - loss: 0.0774 - accuracy: 0.8776 - val_loss: 1.2383 - val_accuracy: 0.6794\n",
      "Epoch 10/10\n",
      "20000/20000 [==============================] - 282s 14ms/step - loss: 0.0748 - accuracy: 0.8826 - val_loss: 1.2119 - val_accuracy: 0.6846\n"
     ]
    }
   ],
   "source": [
    "text_cnn_model_new = build_text_cnn_model()\n",
    "text_cnn_model_new.compile(\n",
    "    loss=loss_fn,\n",
    "    optimizer=optimizer,\n",
    "    metrics=['accuracy']  # 使用accuracy进行评价\n",
    ")\n",
    "\n",
    "# 由于采样后构造的数据集是无限的，所以模型训练的方式需要做一些改变\n",
    "# 需要指定每个epoch跑多少个step，因为每个step随机从数据集中采样相对平衡的数据集\n",
    "history = text_cnn_model_new.fit(\n",
    "    balanced_train_dataset,  # 指定平衡后的训练数据集\n",
    "    epochs=EPOCHS,\n",
    "    callbacks=[callback],\n",
    "    validation_data=val_dataset,\n",
    "    class_weight=class_weight,\n",
    "    steps_per_epoch=20000,  # 指定每个epoch跑多少step\n",
    ")"
   ]
  },
  {
   "cell_type": "code",
   "execution_count": 34,
   "metadata": {},
   "outputs": [
    {
     "name": "stdout",
     "output_type": "stream",
     "text": [
      "              precision    recall  f1-score   support\n",
      "\n",
      "           0       0.48      0.78      0.60      1796\n",
      "           1       0.83      0.60      0.70      5651\n",
      "           2       0.63      0.74      0.68      2551\n",
      "\n",
      "    accuracy                           0.67      9998\n",
      "   macro avg       0.65      0.71      0.66      9998\n",
      "weighted avg       0.72      0.67      0.68      9998\n",
      "\n"
     ]
    }
   ],
   "source": [
    "# 查看新数据集的模型结果\n",
    "predictions = text_cnn_model.predict(test_dataset)\n",
    "preds = np.argmax(predictions, axis=-1)\n",
    "result = classification_report(test_label, preds)\n",
    "print(result)"
   ]
  },
  {
   "cell_type": "markdown",
   "metadata": {},
   "source": [
    "### 5.3 Focal Loss\n",
    "Focal Loss 论文详解： https://zhuanlan.zhihu.com/p/49981234  \n",
    "1. 交叉熵损失函数的计算，也就是各个样本的权重是一样，没有区分不同类别的样本。   \n",
    "2. 通过对不同类别样本的损失进行加权，解决一部分的数据不平衡问题。\n",
    "3. 2中的方案可以控制正负样本的权重，但是没法控制容易分类和难分类样本的权重，于是就有了focal loss"
   ]
  },
  {
   "cell_type": "code",
   "execution_count": 35,
   "metadata": {},
   "outputs": [],
   "source": [
    "import tensorflow_addons as tfa\n",
    "\n",
    "loss = tfa.losses.SigmoidFocalCrossEntropy(from_logits=True)"
   ]
  },
  {
   "cell_type": "markdown",
   "metadata": {},
   "source": [
    "## 数据不平衡在TF中解决方案总结\n",
    "\n",
    "1. class_weight: 不同类别样本重要程度加权  \n",
    "2. balanced train dataset: 通过不同采样，构造相对平衡的数据集\n",
    "3. Focal Loss：一般类别分布较多的样本较好分类，通过对容易和难分类的样本进行加权，重点关注难分类样本\n",
    "\n",
    "3种解决方案，也可以互相组合，最后通过消融实验验证那种效果最好"
   ]
  },
  {
   "cell_type": "code",
   "execution_count": null,
   "metadata": {},
   "outputs": [],
   "source": []
  }
 ],
 "metadata": {
  "kernelspec": {
   "name": "pycharm-b35e09b3",
   "language": "python",
   "display_name": "PyCharm (Chapter.4)"
  },
  "language_info": {
   "codemirror_mode": {
    "name": "ipython",
    "version": 3
   },
   "file_extension": ".py",
   "mimetype": "text/x-python",
   "name": "python",
   "nbconvert_exporter": "python",
   "pygments_lexer": "ipython3",
   "version": "3.8.10"
  }
 },
 "nbformat": 4,
 "nbformat_minor": 2
}